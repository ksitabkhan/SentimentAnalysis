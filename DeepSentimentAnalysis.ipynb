{
  "nbformat": 4,
  "nbformat_minor": 0,
  "metadata": {
    "colab": {
      "name": "DeepSentimentAnalysis.ipynb",
      "provenance": [],
      "collapsed_sections": []
    },
    "kernelspec": {
      "name": "python3",
      "display_name": "Python 3"
    },
    "language_info": {
      "name": "python"
    }
  },
  "cells": [
    {
      "cell_type": "markdown",
      "metadata": {
        "id": "5hItAdjyA-q2"
      },
      "source": [
        "**What is sentiment Analysis?**\n",
        "\n",
        "Sentiment analysis is also known as Opinion mining or emotion AI refers to the use of NLP, text analysis, computational linguistics and biometrics to systematically identify, extracr, quantify and study effective states & subjective information. \n",
        "\n",
        "Automated extraction of subjective content from digital text and predicting the subjectivity as positive or negative. "
      ]
    },
    {
      "cell_type": "markdown",
      "metadata": {
        "id": "PrbETqNSBlPb"
      },
      "source": [
        "**Applications of Sentiment analysis.**\n",
        "\n",
        "\n",
        "*   Understand intent behind language in an unbiased manner\n",
        "*   Used in different business areas like retail, healthcare, any customer-centric organization.\n",
        "*   Respond to customer complaints with better solutions. \n",
        "\n"
      ]
    },
    {
      "cell_type": "markdown",
      "metadata": {
        "id": "qSbXowT5EDFD"
      },
      "source": [
        "**Sentiment Analysis Algorithms**\n",
        "\n",
        "Sentiment analysis algorithms are classified as:\n",
        "\n",
        "\n",
        "*   **Rule-based** systems that perform sentiment analysis based on a set of manually crafted rules. \n",
        "    Usually some kind of scripting language is used to define these rules. They are used to identify subjectivity, polarity or the subject of an opinion.\n",
        "    \n",
        "    These rules may use a variety of inputs, for example:\n",
        "      *  Classic NLP techniques : stemming, tokenization, POS tagging & parsing.\n",
        "      *  Other resources like lexicons(i.e lists of words and expressions).\n",
        "*   **Automatic** systems that rely on machine learning techniques to learn from Data\n",
        "      * No hand-crafted rules\n",
        "      * Relies on ML techniques\n",
        "      * Modelled as a classification task. Which can further be categorised as follows:\n",
        "          * Can be Naive Bayes classifier\n",
        "          * SVM\n",
        "          * DL based classifiers\n",
        "*   **Hybrid** systems that combine above two approaches. \n",
        "      * Combines the best of both worlds - rule-based and Automatic approach\n",
        "      * Can improce Accuracy and Precision\n"
      ]
    },
    {
      "cell_type": "markdown",
      "metadata": {
        "id": "5DYeHJhnEoSu"
      },
      "source": [
        "**Basic Workflow of Sentiment Analysis**\n",
        "\n",
        "1. <font color=\"green\"> Gather unstructured data</font>  - Readymade Data set is used\n",
        "2. <font color=\"green\"> Data Cleaning and Preprocessing</font> - only Preprocessing will be done\n",
        "3. <font color=\"green\"> Vectorizing Data</font> - Embedding layer of Keras will be used\n",
        "4. <font color=\"green\">Algorithm Selection (Depending on accuracy and Performance trade-off)</font> - LSTM will be used for capturing sequence\n",
        "5. <font color=\"green\">Training and cross-validation</font> - Done here\n",
        "6. <font color=\"green\">Prediction</font> - Trained model is used for prediction"
      ]
    },
    {
      "cell_type": "markdown",
      "metadata": {
        "id": "DtPhnwFfO3bs"
      },
      "source": [
        "### **Data Set details**\n",
        "\n",
        "**IMDB movie Review Dataset**\n",
        "Raw IMDB data is structured as 50,000 individual text files where the sentiment\n",
        "(negative = 0, positive = 1) is part of each file name.\n",
        "\n",
        "However, the Keras library has a built-in sub-module named datasets that can import the IMDB training and test datasets.\n"
      ]
    },
    {
      "cell_type": "markdown",
      "metadata": {
        "id": "-zbcF7mtb0P9"
      },
      "source": [
        "**Approach used here:**\n",
        "\n",
        "1. Load data into memory : keras.datasets.imdb.load_data()\n",
        "2. Define the model : keras. models.Sequential().add(...)\n",
        "3. Compile the model : model.compile()\n",
        "4. Train model : model.fit()\n",
        "5. Evaluate model : model.evaluate()\n",
        "6. Save model : model.save()\n",
        "7. Use model to make a prediction : model.predict()"
      ]
    },
    {
      "cell_type": "markdown",
      "metadata": {
        "id": "Oq_8yDIkillC"
      },
      "source": [
        "Indexes from the above reviews represent ranks. First 3 indexes are reserved (Hence **idx-3** is done below)\n",
        "*  0 -> Padding\n",
        "*  1 -> Start of sequence\n",
        "*  2 -> oov_char= out of vocabulary(words whose rank is greater than the max_length) default is 2\n",
        "*  3 -> Most frequent word by default. \n",
        "\n"
      ]
    },
    {
      "cell_type": "markdown",
      "metadata": {
        "id": "HwnJ2shXAvcf"
      },
      "source": [
        "### **Our Model**\n",
        "![sentimentAnalysis.png](data:image/png;base64,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)"
      ]
    },
    {
      "cell_type": "markdown",
      "metadata": {
        "id": "XYKmPqWbECx7"
      },
      "source": [
        "## **Define the Model**"
      ]
    },
    {
      "cell_type": "markdown",
      "metadata": {
        "id": "5PmeS_WKANgx"
      },
      "source": [
        "### Sentiment Analysis in Keras"
      ]
    },
    {
      "cell_type": "code",
      "metadata": {
        "id": "7ShX3sfxAIbh"
      },
      "source": [
        "import keras\n",
        "from keras.preprocessing import sequence\n",
        "from keras.models import Sequential\n",
        "from keras.layers import Dense, Embedding\n",
        "from keras.layers import LSTM\n",
        "from keras.datasets import imdb"
      ],
      "execution_count": 1,
      "outputs": []
    },
    {
      "cell_type": "code",
      "metadata": {
        "colab": {
          "base_uri": "https://localhost:8080/"
        },
        "id": "3qzK8igMAVzk",
        "outputId": "e2a69507-0f72-4637-9f3b-fff1012b2725"
      },
      "source": [
        "max_words=20000\n",
        "print(\"Loading Data . . . \")\n",
        "(x_train,y_train), (x_test, y_test) = imdb.load_data(num_words=max_words)\n",
        "print(len(x_train), 'train sequences')\n",
        "print(len(x_test), 'test sequences')\n"
      ],
      "execution_count": 2,
      "outputs": [
        {
          "output_type": "stream",
          "name": "stdout",
          "text": [
            "Loading Data . . . \n",
            "25000 train sequences\n",
            "25000 test sequences\n"
          ]
        }
      ]
    },
    {
      "cell_type": "markdown",
      "metadata": {
        "id": "k3AbX243AzPf"
      },
      "source": [
        "### Preprocessing\n"
      ]
    },
    {
      "cell_type": "code",
      "metadata": {
        "colab": {
          "base_uri": "https://localhost:8080/"
        },
        "id": "kBiFwXq7A2gg",
        "outputId": "b2485eea-88af-4a7a-9d54-587b0e4da5ae"
      },
      "source": [
        "# cut texts after this number of words (among top max_features most common words)\n",
        "max_review_length = 80\n",
        "x_train = sequence.pad_sequences(x_train, truncating='pre', padding='pre', maxlen=max_review_length)\n",
        "max_review_length = 80\n",
        "x_test = sequence.pad_sequences(x_test, truncating='pre', padding='pre', maxlen=max_review_length)\n",
        "print('x_train shape:', x_train.shape)\n",
        "print('x_test shape:', x_test.shape)"
      ],
      "execution_count": 3,
      "outputs": [
        {
          "output_type": "stream",
          "name": "stdout",
          "text": [
            "x_train shape: (25000, 80)\n",
            "x_test shape: (25000, 80)\n"
          ]
        }
      ]
    },
    {
      "cell_type": "markdown",
      "metadata": {
        "id": "XNbi501cA6OE"
      },
      "source": [
        "#### Build The model"
      ]
    },
    {
      "cell_type": "code",
      "metadata": {
        "colab": {
          "base_uri": "https://localhost:8080/"
        },
        "id": "8S6KUue-A8hO",
        "outputId": "9dbb4b60-b0c5-4dd3-ad81-bb4831ede17c"
      },
      "source": [
        "print('Build model...')\n",
        "embedding_length = 64\n",
        "model = Sequential()\n",
        "model.add(Embedding(input_dim=max_words, output_dim=embedding_length, input_length=max_review_length))\n",
        "model.add(LSTM(units=64, input_shape=(max_review_length, embedding_length), return_sequences=True, unroll=True))\n",
        "model.add(LSTM(units=32, input_shape=(max_review_length, embedding_length), return_sequences=False , unroll=True)) \n",
        "model.add(Dense(1, activation='sigmoid'))\n",
        "# try using different optimizers and different optimizer configs\n",
        "model.compile(loss='binary_crossentropy',\n",
        "              optimizer='adam',\n",
        "              metrics=['accuracy'])"
      ],
      "execution_count": 12,
      "outputs": [
        {
          "output_type": "stream",
          "name": "stdout",
          "text": [
            "Build model...\n"
          ]
        }
      ]
    },
    {
      "cell_type": "markdown",
      "metadata": {
        "id": "IHrGsX6qBr8W"
      },
      "source": [
        "#### Visualise the model\n"
      ]
    },
    {
      "cell_type": "code",
      "metadata": {
        "colab": {
          "base_uri": "https://localhost:8080/",
          "height": 802
        },
        "id": "SbvtB0qDB5oE",
        "outputId": "00f3b757-1e38-4d65-8d9c-bd19801c2ec7"
      },
      "source": [
        "\n",
        "model.summary()\n",
        "from keras.utils.vis_utils import plot_model\n",
        "plot_model(model, show_shapes=True)"
      ],
      "execution_count": 13,
      "outputs": [
        {
          "output_type": "stream",
          "name": "stdout",
          "text": [
            "Model: \"sequential_2\"\n",
            "_________________________________________________________________\n",
            "Layer (type)                 Output Shape              Param #   \n",
            "=================================================================\n",
            "embedding_2 (Embedding)      (None, 80, 64)            1280000   \n",
            "_________________________________________________________________\n",
            "lstm_3 (LSTM)                (None, 80, 64)            33024     \n",
            "_________________________________________________________________\n",
            "lstm_4 (LSTM)                (None, 32)                12416     \n",
            "_________________________________________________________________\n",
            "dense_2 (Dense)              (None, 1)                 33        \n",
            "=================================================================\n",
            "Total params: 1,325,473\n",
            "Trainable params: 1,325,473\n",
            "Non-trainable params: 0\n",
            "_________________________________________________________________\n"
          ]
        },
        {
          "output_type": "execute_result",
          "data": {
            "image/png": "[encoded data removed]",
            "text/plain": [
              "<IPython.core.display.Image object>"
            ]
          },
          "metadata": {},
          "execution_count": 13
        }
      ]
    },
    {
      "cell_type": "markdown",
      "metadata": {
        "id": "tdEqKdoECeug"
      },
      "source": [
        "#### Train the model"
      ]
    },
    {
      "cell_type": "code",
      "metadata": {
        "colab": {
          "base_uri": "https://localhost:8080/"
        },
        "id": "55GeYStPCd6_",
        "outputId": "91706c5a-4e70-4921-aa02-68fb389ecb22"
      },
      "source": [
        "print('Training...')\n",
        "batch_size = 32\n",
        "model.fit(x_train, y_train,\n",
        "    batch_size = batch_size,\n",
        "    epochs=10,\n",
        "    validation_data = (x_test, y_test))"
      ],
      "execution_count": 14,
      "outputs": [
        {
          "output_type": "stream",
          "name": "stdout",
          "text": [
            "Training...\n",
            "Epoch 1/10\n",
            "782/782 [==============================] - 92s 85ms/step - loss: 0.4201 - accuracy: 0.7995 - val_loss: 0.3631 - val_accuracy: 0.8402\n",
            "Epoch 2/10\n",
            "782/782 [==============================] - 65s 83ms/step - loss: 0.2445 - accuracy: 0.9048 - val_loss: 0.3756 - val_accuracy: 0.8313\n",
            "Epoch 3/10\n",
            "782/782 [==============================] - 64s 82ms/step - loss: 0.1516 - accuracy: 0.9435 - val_loss: 0.4617 - val_accuracy: 0.8122\n",
            "Epoch 4/10\n",
            "782/782 [==============================] - 64s 82ms/step - loss: 0.0902 - accuracy: 0.9690 - val_loss: 0.6565 - val_accuracy: 0.8192\n",
            "Epoch 5/10\n",
            "782/782 [==============================] - 64s 82ms/step - loss: 0.0605 - accuracy: 0.9800 - val_loss: 0.6923 - val_accuracy: 0.8111\n",
            "Epoch 6/10\n",
            "782/782 [==============================] - 65s 83ms/step - loss: 0.0437 - accuracy: 0.9862 - val_loss: 0.7097 - val_accuracy: 0.8175\n",
            "Epoch 7/10\n",
            "782/782 [==============================] - 64s 82ms/step - loss: 0.0284 - accuracy: 0.9911 - val_loss: 0.7572 - val_accuracy: 0.8150\n",
            "Epoch 8/10\n",
            "782/782 [==============================] - 65s 83ms/step - loss: 0.0269 - accuracy: 0.9916 - val_loss: 0.8020 - val_accuracy: 0.8108\n",
            "Epoch 9/10\n",
            "782/782 [==============================] - 64s 82ms/step - loss: 0.0198 - accuracy: 0.9939 - val_loss: 1.0121 - val_accuracy: 0.8093\n",
            "Epoch 10/10\n",
            "782/782 [==============================] - 65s 83ms/step - loss: 0.0181 - accuracy: 0.9942 - val_loss: 0.9231 - val_accuracy: 0.8160\n"
          ]
        },
        {
          "output_type": "execute_result",
          "data": {
            "text/plain": [
              "<keras.callbacks.History at 0x7f45fcc6ce10>"
            ]
          },
          "metadata": {},
          "execution_count": 14
        }
      ]
    },
    {
      "cell_type": "markdown",
      "metadata": {
        "id": "hwG5bd_0Cqpe"
      },
      "source": [
        "#### Evaluate the model"
      ]
    },
    {
      "cell_type": "code",
      "metadata": {
        "colab": {
          "base_uri": "https://localhost:8080/"
        },
        "id": "-VLcB9vfCpVw",
        "outputId": "4890e2fe-94b5-44d1-99a3-373edb264e00"
      },
      "source": [
        "score, acc = model.evaluate(x_test, y_test, batch_size=batch_size)\n",
        "print(f'Test score = {score}')\n",
        "print(f'Test accuracy = {acc}')"
      ],
      "execution_count": 15,
      "outputs": [
        {
          "output_type": "stream",
          "name": "stdout",
          "text": [
            "782/782 [==============================] - 14s 18ms/step - loss: 0.9231 - accuracy: 0.8160\n",
            "Test score = 0.9231351017951965\n",
            "Test accuracy = 0.8159999847412109\n"
          ]
        }
      ]
    },
    {
      "cell_type": "markdown",
      "metadata": {
        "id": "_6x63JY2Cxdj"
      },
      "source": [
        "#### Making Predictions with the model"
      ]
    },
    {
      "cell_type": "code",
      "metadata": {
        "id": "Iox-moBobS0G"
      },
      "source": [
        "def Print_rev(prediction):\n",
        "  if (prediction > 0.6):\n",
        "    print(\"Review is positive\")\n",
        "  elif (prediction < 0.4):\n",
        "    print(\"Review is negative\")\n",
        "  else:\n",
        "    print(\"Review is neutral\")"
      ],
      "execution_count": 19,
      "outputs": []
    },
    {
      "cell_type": "markdown",
      "metadata": {
        "id": "0qdu4Uirb9ab"
      },
      "source": [
        "The below function will predict the strength of positivity or negativity or neutralness of the review submitted by the user. "
      ]
    },
    {
      "cell_type": "code",
      "metadata": {
        "id": "gmJmhmKubm1-"
      },
      "source": [
        "def getPrediction(review):\n",
        "  review = review.lower()   # This changes all the characters to lower case\n",
        "  print(f'New review = {review}')\n",
        "\n",
        "  d = imdb.get_word_index()\n",
        "  words = review.split()\n",
        "  review = []\n",
        "\n",
        "  for word in words:\n",
        "    if word not in d:\n",
        "      review.append(2)\n",
        "    else:\n",
        "      review.append(d[word] + 3)\n",
        "\n",
        "  # print(f\"review = {review}\")\n",
        "  review = sequence.pad_sequences([review], truncating='pre', padding='pre', maxlen=80)\n",
        "  return(model.predict(review))"
      ],
      "execution_count": 24,
      "outputs": []
    },
    {
      "cell_type": "code",
      "metadata": {
        "colab": {
          "base_uri": "https://localhost:8080/"
        },
        "id": "-KgabvjEC1Vn",
        "outputId": "8e949bb9-9743-4dcf-8cfb-21e642cd8be7"
      },
      "source": [
        "review = \"The movie was a great waste of time\"\n",
        "\n",
        "prediction=getPrediction(review)\n",
        "Print_rev(prediction)\n",
        "# print(f'Prediction (0 = Negative, 1 = positive) = {prediction}')"
      ],
      "execution_count": 25,
      "outputs": [
        {
          "output_type": "stream",
          "name": "stdout",
          "text": [
            "New review = the movie was a great waste of time\n",
            "Review is negative\n"
          ]
        }
      ]
    },
    {
      "cell_type": "code",
      "metadata": {
        "colab": {
          "base_uri": "https://localhost:8080/"
        },
        "id": "0919-PyIcLJg",
        "outputId": "a6c5aa0f-f5b7-4d6a-d1a6-3d8b70798005"
      },
      "source": [
        "review = \"I enjoyed the movie a lot\"\n",
        "\n",
        "prediction=getPrediction(review)\n",
        "Print_rev(prediction)"
      ],
      "execution_count": 26,
      "outputs": [
        {
          "output_type": "stream",
          "name": "stdout",
          "text": [
            "New review = i enjoyed the movie a lot\n",
            "Review is positive\n"
          ]
        }
      ]
    },
    {
      "cell_type": "code",
      "metadata": {
        "colab": {
          "base_uri": "https://localhost:8080/"
        },
        "id": "-aUbbRoUcPnZ",
        "outputId": "8454d825-cde3-4af1-877e-0f1796ed1d5b"
      },
      "source": [
        "review = \"I wouldn't mind watching it again if the movie was a little short\"\n",
        "\n",
        "prediction=getPrediction(review)\n",
        "Print_rev(prediction)"
      ],
      "execution_count": 28,
      "outputs": [
        {
          "output_type": "stream",
          "name": "stdout",
          "text": [
            "New review = i wouldn't mind watching it again if the movie was a little short\n",
            "Review is positive\n"
          ]
        }
      ]
    }
  ]
}